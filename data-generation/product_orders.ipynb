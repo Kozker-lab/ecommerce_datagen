{
 "cells": [
  {
   "cell_type": "code",
   "execution_count": 2,
   "metadata": {},
   "outputs": [],
   "source": [
    "import pandas as pd\n",
    "import numpy as np\n",
    "from faker import Faker as fk\n",
    "import random\n",
    "# Read in the data\n",
    "orders = pd.read_csv('./data/csv/orders.csv')\n",
    "product = pd.read_csv('./data/csv/products.csv')\n",
    "order_details = pd.read_csv('./data/csv/order_details.csv')\n"
   ]
  },
  {
   "cell_type": "code",
   "execution_count": 3,
   "metadata": {},
   "outputs": [],
   "source": []
  },
  {
   "cell_type": "code",
   "execution_count": null,
   "metadata": {},
   "outputs": [
    {
     "name": "stdout",
     "output_type": "stream",
     "text": [
      "{1: 0.3, 4: 0.18, 5: 0.24, 8: 0.12, 2: 0.1, 7: 0.04, 3: 0.02}\n"
     ]
    }
   ],
   "source": [
    "#  Assigning weights to Categories\n",
    "category_list = product['CategoryID'].unique().tolist() # Get a list of unique categoryIDs\n",
    "category_weights = [0.3, 0.18, 0.24, 0.12, 0.10, 0.04, 0.02] # Weights for each category\n",
    "\n",
    "# Create a dictionary of categories and their weights\n",
    "category_dict = zip(category_list, category_weights) # Zip the two lists together\n",
    "category_dict = dict(category_dict) # Convert to a dictionary\n",
    "print(category_dict)\n",
    "\n",
    "# Updating the categoryID column with randomized values\n",
    "category, probability = zip(*category_dict.items()) # Unpack the dictionary\n",
    "for index in product.index: # Loop through the dataframe\n",
    "    new_category = random.choices(category, probability)[0] # Returns a list, so we take the first element\n",
    "    product.at[index, 'CategoryID'] = new_category # Update the value in the dataframe\n",
    "\n",
    "\n",
    "product.CategoryID.value_counts()\n",
    "product.to_csv('./data/csv/updated_products.csv')"
   ]
  },
  {
   "cell_type": "code",
   "execution_count": 5,
   "metadata": {},
   "outputs": [
    {
     "data": {
      "text/plain": [
       "CategoryID\n",
       "1    58\n",
       "4    40\n",
       "5    40\n",
       "8    28\n",
       "2    22\n",
       "7    11\n",
       "3     1\n",
       "Name: count, dtype: int64"
      ]
     },
     "execution_count": 5,
     "metadata": {},
     "output_type": "execute_result"
    }
   ],
   "source": [
    "import random\n",
    "import string\n",
    "category_df = pd.read_csv('./data/csv/categories.csv')\n",
    "products_df = pd.read_csv('./data/products.csv')\n",
    "\n",
    "def generate_product_name(category_name):\n",
    "    \"\"\"\n",
    "    Generate a realistic product name based on the category name.\n",
    "    \"\"\"\n",
    "    product_type = category_name.split('&')[0].strip()\n",
    "    model_suffix = ''.join(random.choices(string.ascii_uppercase + string.digits, k=3))\n",
    "    return f\"{product_type} {model_suffix}\"\n",
    "\n",
    "def generate_description(product_name):\n",
    "    \"\"\"\n",
    "    Generate a realistic description for a product based on its name.\n",
    "    \"\"\"\n",
    "    adjective = random.choice([\"high-performance\", \"sleek\", \"user-friendly\", \"compact and durable\", \"premium\"])\n",
    "    return f\"The {product_name} incorporates {main_feature}, offering exceptional quality and value.\"\n",
    "\n",
    "# Apply the name and description generation for each product\n",
    "products_df['Name'] = products_df.apply(lambda row: generate_product_name(categories_df.loc[categories_df['CategoryID'] == row['CategoryID'], 'Name'].values[0]), axis=1)\n",
    "products_df['Description'] = products_df['Name'].apply(generate_description)\n",
    "\n",
    "# Display the updated products dataframe\n",
    "products_df.head()\n"
   ]
  },
  {
   "cell_type": "code",
   "execution_count": 6,
   "metadata": {},
   "outputs": [],
   "source": []
  },
  {
   "cell_type": "code",
   "execution_count": 21,
   "metadata": {},
   "outputs": [
    {
     "data": {
      "text/plain": [
       "Quantity\n",
       "1    16906\n",
       "2     9943\n",
       "3     4391\n",
       "4     1672\n",
       "5      640\n",
       "Name: count, dtype: int64"
      ]
     },
     "execution_count": 21,
     "metadata": {},
     "output_type": "execute_result"
    }
   ],
   "source": [
    "# Do the same with Quantity in OrderDetails\n",
    "quantity_list = order_details['Quantity'].unique().tolist()\n",
    "quantity_list.sort()\n",
    "quantity_weights = [0.50, 0.30, 0.13, 0.05, 0.02]\n",
    "quantity_dict = dict(zip(quantity_list, quantity_weights))\n",
    "quantity, probability = zip(*quantity_dict.items())\n",
    "\n",
    "for index in order_details.index:\n",
    "    new_quantity = random.choices(quantity, probability)[0]\n",
    "    order_details.at[index, 'Quantity'] = new_quantity\n",
    "\n",
    "order_details.Quantity.value_counts()\n"
   ]
  },
  {
   "cell_type": "code",
   "execution_count": 42,
   "metadata": {},
   "outputs": [],
   "source": [
    "order_details.to_csv('./data/csv/updated_order_details.csv')\n"
   ]
  },
  {
   "cell_type": "code",
   "execution_count": 44,
   "metadata": {},
   "outputs": [],
   "source": [
    "#change the TotalAmount column in orders to be quantity * price from order_details\n",
    "orders['TotalAmount'] = order_details['Quantity'] * order_details['UnitPrice']\n",
    "\n",
    "\n"
   ]
  }
 ],
 "metadata": {
  "kernelspec": {
   "display_name": "automation",
   "language": "python",
   "name": "python3"
  },
  "language_info": {
   "codemirror_mode": {
    "name": "ipython",
    "version": 3
   },
   "file_extension": ".py",
   "mimetype": "text/x-python",
   "name": "python",
   "nbconvert_exporter": "python",
   "pygments_lexer": "ipython3",
   "version": "3.11.5"
  }
 },
 "nbformat": 4,
 "nbformat_minor": 2
}
